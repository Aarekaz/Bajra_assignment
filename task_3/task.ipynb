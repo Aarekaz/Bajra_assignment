{
 "cells": [
  {
   "cell_type": "markdown",
   "metadata": {},
   "source": [
    "## Given Dictionary:"
   ]
  },
  {
   "cell_type": "code",
   "execution_count": 1,
   "metadata": {},
   "outputs": [],
   "source": [
    "chest = {\n",
    "'42': 'It is the Answer to Life the Universe and Everything.',\n",
    "'666': 'If you would be a real seeker after truth, it is necessary that at least once in your life you doubt, as far as possible, all things.',\n",
    "'8': 'It is wrong always, everywhere and for everyone, to believe anything upon insufficient evidence.',\n",
    "'13': 'The Truth is in the Heart.',\n",
    "'0': 'Freedom is secured not by the fulfilling of ones desires, but by the removal of desire.',\n",
    "'9': 'The unexamined life is not worth living.',\n",
    "'76': 'Life is a series of natural and spontaneous changes.',\n",
    "'70': 'God is dead! He remains dead! And we have killed him.'\n",
    "}"
   ]
  },
  {
   "cell_type": "code",
   "execution_count": 2,
   "metadata": {},
   "outputs": [
    {
     "name": "stdout",
     "output_type": "stream",
     "text": [
      "0: Freedom is secured not by the fulfilling of ones desires, but by the removal of desire.\n",
      "13: The Truth is in the Heart.\n",
      "42: It is the Answer to Life the Universe and Everything.\n",
      "666: If you would be a real seeker after truth, it is necessary that at least once in your life you doubt, as far as possible, all things.\n",
      "70: God is dead! He remains dead! And we have killed him.\n",
      "76: Life is a series of natural and spontaneous changes.\n",
      "8: It is wrong always, everywhere and for everyone, to believe anything upon insufficient evidence.\n",
      "9: The unexamined life is not worth living.\n"
     ]
    }
   ],
   "source": [
    "## 1 Sort the dictionary by its keys. Using traditional sorting.\n",
    "\n",
    "for key in sorted(chest):\n",
    "    print((\"%s: %s\") % (key, chest[key]))"
   ]
  },
  {
   "cell_type": "code",
   "execution_count": 3,
   "metadata": {},
   "outputs": [
    {
     "name": "stdout",
     "output_type": "stream",
     "text": [
      "First two values ['42', '666']\n",
      "Second last value 76\n",
      "Last Value 70\n"
     ]
    }
   ],
   "source": [
    "# Get the values of first, second, last and second last keys.\n",
    "\n",
    "print(\"First two values\", list(chest)[:2]) \n",
    "\n",
    "print (\"Second last value\", list(chest)[-2])\n",
    "\n",
    "print(\"Last Value\", list(chest)[-1])\n"
   ]
  },
  {
   "cell_type": "code",
   "execution_count": 4,
   "metadata": {},
   "outputs": [
    {
     "name": "stdout",
     "output_type": "stream",
     "text": [
      "string:  Freedom is secured not by the fulfilling of ones desires, but by the removal of desire.\n",
      "Fm is sd nt by te fg of os d, bt by te rl of d."
     ]
    }
   ],
   "source": [
    "# Get first and last characters of each word in concatenated string, no spaces in between.\n",
    "# Eg: 'I am John Doe. I am Jane Doe.' should result in\n",
    "#'IIamJnD.IIamJeD.'\n",
    "\n",
    "str = chest.get('0')\n",
    "\n",
    "\n",
    "def FirstAndLast(string):\n",
    "\tfor i in range(len(string)):\n",
    "\n",
    "\t\t# If it is the first word\n",
    "\t\t# of the string then print it.\n",
    "\t\tif i == 0:\n",
    "\t\t\tprint(string[i], end = \"\")\n",
    "\n",
    "\t\t# If it is the last word of the string\n",
    "\t\t# then also print it.\n",
    "\t\tif i == len(string) - 1:\n",
    "\t\t\tprint(string[i], end = \"\")\n",
    "\n",
    "\t\t# If there is a space\n",
    "\t\t# print the successor and predecessor\n",
    "\t\t# to space.\n",
    "\t\tif string[i] == \" \":\n",
    "\t\t\tprint(string[i - 1],\n",
    "\t\t\t\tstring[i + 1], end = \"\")\n",
    "   \n",
    "\n",
    "print(\"string: \", str)\n",
    "\n",
    "FirstAndLast(str)\n"
   ]
  },
  {
   "cell_type": "code",
   "execution_count": 5,
   "metadata": {},
   "outputs": [
    {
     "name": "stdout",
     "output_type": "stream",
     "text": [
      "Fm is sd nt by te fg of os d, bt by te rl of d.None\n"
     ]
    },
    {
     "ename": "AttributeError",
     "evalue": "'NoneType' object has no attribute 'replace'",
     "output_type": "error",
     "traceback": [
      "\u001b[1;31m---------------------------------------------------------------------------\u001b[0m",
      "\u001b[1;31mAttributeError\u001b[0m                            Traceback (most recent call last)",
      "\u001b[1;32md:\\Development\\Bajra_assignment\\task_3\\task.ipynb Cell 6'\u001b[0m in \u001b[0;36m<module>\u001b[1;34m\u001b[0m\n\u001b[0;32m      <a href='vscode-notebook-cell:/d%3A/Development/Bajra_assignment/task_3/task.ipynb#ch0000011?line=0'>1</a>\u001b[0m result_str\u001b[39m=\u001b[39mFirstAndLast(\u001b[39mstr\u001b[39m)\n\u001b[0;32m      <a href='vscode-notebook-cell:/d%3A/Development/Bajra_assignment/task_3/task.ipynb#ch0000011?line=3'>4</a>\u001b[0m \u001b[39mprint\u001b[39m(result_str)\n\u001b[1;32m----> <a href='vscode-notebook-cell:/d%3A/Development/Bajra_assignment/task_3/task.ipynb#ch0000011?line=5'>6</a>\u001b[0m str1\u001b[39m=\u001b[39m result_str\u001b[39m.\u001b[39;49mreplace(\u001b[39m\"\u001b[39m\u001b[39m \u001b[39m\u001b[39m\"\u001b[39m,\u001b[39m\"\u001b[39m\u001b[39m\"\u001b[39m)\n\u001b[0;32m      <a href='vscode-notebook-cell:/d%3A/Development/Bajra_assignment/task_3/task.ipynb#ch0000011?line=7'>8</a>\u001b[0m \u001b[39mprint\u001b[39m(str1)\n",
      "\u001b[1;31mAttributeError\u001b[0m: 'NoneType' object has no attribute 'replace'"
     ]
    }
   ],
   "source": [
    "\n"
   ]
  },
  {
   "cell_type": "code",
   "execution_count": null,
   "metadata": {},
   "outputs": [
    {
     "name": "stdout",
     "output_type": "stream",
     "text": [
      "Fm is sd nt by te fg of os d, bt by te rl of d.None\n"
     ]
    }
   ],
   "source": [
    "# 5. Get the number of occurrences of each letter in the resulting string and get top 5 letters without using any python package.\n",
    "# number_of_occurences = [32,12,10,8,6]\n",
    "\n"
   ]
  },
  {
   "cell_type": "code",
   "execution_count": null,
   "metadata": {},
   "outputs": [
    {
     "data": {
      "text/plain": [
       "NoneType"
      ]
     },
     "execution_count": 38,
     "metadata": {},
     "output_type": "execute_result"
    }
   ],
   "source": [
    "type(result_str)"
   ]
  },
  {
   "cell_type": "code",
   "execution_count": null,
   "metadata": {},
   "outputs": [],
   "source": []
  },
  {
   "cell_type": "code",
   "execution_count": null,
   "metadata": {},
   "outputs": [],
   "source": []
  },
  {
   "cell_type": "code",
   "execution_count": null,
   "metadata": {},
   "outputs": [],
   "source": []
  },
  {
   "cell_type": "code",
   "execution_count": null,
   "metadata": {},
   "outputs": [],
   "source": [
    "# number_of_occurences = [32,12,10,8,6]\n"
   ]
  }
 ],
 "metadata": {
  "interpreter": {
   "hash": "7258413136b093ce8dad0aa75b6ef479f718b739e1707c36a3171dd1a9b089ef"
  },
  "kernelspec": {
   "display_name": "Python 3.9.9 64-bit",
   "language": "python",
   "name": "python3"
  },
  "language_info": {
   "codemirror_mode": {
    "name": "ipython",
    "version": 3
   },
   "file_extension": ".py",
   "mimetype": "text/x-python",
   "name": "python",
   "nbconvert_exporter": "python",
   "pygments_lexer": "ipython3",
   "version": "3.9.9"
  },
  "orig_nbformat": 4
 },
 "nbformat": 4,
 "nbformat_minor": 2
}
